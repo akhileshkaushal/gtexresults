{
 "cells": [
  {
   "cell_type": "markdown",
   "metadata": {},
   "source": [
    "# Multivariate adaptive shrinkage (MASH) analysis of eQTL data"
   ]
  },
  {
   "cell_type": "markdown",
   "metadata": {},
   "source": [
    "This is a \"blackbox\" implementation of the `mashr` eQTL workflow. \n",
    "\n",
    "Since the submission of Urbut 2017 we have improved implementation of MASH algorithm to produce an R package, [`mashr`](https://github.com/stephenslab/mashr). Major improvements compared to Urbut 2017 are:\n",
    "\n",
    "1. Faster computation of likelihood and posterior matrices via matrix algebra tricks and a C++ implementation.\n",
    "2. Faster computation of MASH mixture via convex optimization.\n",
    "3. Add in `FLASH` method for prior covariance matrices.\n",
    "\n",
    "Here the input data have already been converted from the original eQTL summary statistics to a format convenient for analysis in MASH. For details on data convertion step, see the README and the `fastqtl_to_mash.ipynb` workflow notebook. \n",
    "\n",
    "In this notebook, we did not apply the inference to all the gene-snp pairs. Rather we focused on the \"top\" gene-snp pairs as a demonstration. It should be straightforward to configure the Posterior computatoin step to work on all gene-snp pairs instead."
   ]
  },
  {
   "cell_type": "markdown",
   "metadata": {},
   "source": [
    "To run the workflow:\n",
    "\n",
    "```bash\n",
    "sos run workflows/mashr_flashr_workflow.ipynb # --data ... --cwd ...\n",
    "```\n",
    "\n",
    "The notebook runs default setting, ie, all the analysis steps. To view all available analysis options:\n",
    "\n",
    "```bash\n",
    "sos run workflows/mashr_flashr_workflow.ipynb -h\n",
    "```\n",
    "\n",
    "The outcome of this notebook should be found under `./mashr_flashr_workflow_output` folder (can be configured). We keep track of results from every MASH step, though the inference of interest should be found in the `*.posterior.rds` file generated at the end of the pipeline.\n",
    "\n",
    "Current mashr implementation requires that you put a copy of [MOSEK license file](https://www.mosek.com/products/academic-licenses) to `<workdir>/mosek.lic` (ie, `mashr_flashr_workflow_output/mosek.lic` if you did not change any settings below)."
   ]
  },
  {
   "cell_type": "code",
   "execution_count": null,
   "metadata": {
    "collapsed": true,
    "kernel": "SoS"
   },
   "outputs": [],
   "source": [
    "[global]\n",
    "parameter: cwd = path('./mashr_flashr_workflow_output')\n",
    "parameter: data = path(\"data/MatrixEQTLSumStats.Portable.Z.rds\")\n",
    "parameter: vhat = 1\n",
    "parameter: alpha = 1\n",
    "parameter: mosek_license = file_target(f\"{cwd:a}/mosek.lic\")\n",
    "flash_data = file_target(f\"{cwd:a}/{data:bn}.flash.rds\")\n",
    "fail_if(not mosek_license.is_file(), msg = f'Please put a valid copy (NOT a symbolic link!) of MOSEK license to: \\n``{mosek_license}``')"
   ]
  },
  {
   "cell_type": "markdown",
   "metadata": {},
   "source": [
    "### FLASH analysis"
   ]
  },
  {
   "cell_type": "code",
   "execution_count": null,
   "metadata": {},
   "outputs": [],
   "source": [
    "[flash: provides = flash_data]\n",
    "# Perform FLASH analysis (time estimate: 20min)\n",
    "depends: R_library(\"mashr@stephenslab/flashr\"), R_library('mclust'), R_library('plyr')\n",
    "K = 5 # flash factors\n",
    "input: f\"{data:a}\"\n",
    "output: flash_data\n",
    "R: expand = \"${ }\", workdir = cwd\n",
    "    get_flash_prior = function(strong.z, K = ${K}, factor_plot = \"${_output:n}.factors.pdf\") {\n",
    "        Z.center = apply(strong.z, 2, function(x) x - mean(x))\n",
    "        flash.data = flashr::flash_set_data(Z.center)\n",
    "        fmodel = flashr::flash(flash.data, greedy = TRUE, backfit = TRUE)\n",
    "        factors = flashr::flash_get_ldf(fmodel)$f\n",
    "        row.names(factors) = colnames(strong.z)\n",
    "        pve.order = order(flashr::flash_get_pve(fmodel), decreasing = TRUE)\n",
    "        if (!is.null(factor_plot)) {\n",
    "            pdf(factor_plot)\n",
    "            #par(mar=c(.5,.5,.5,.5))\n",
    "            #par(mfrow=c(ceiling(length(pve.order) / 2), 2))\n",
    "            for(i in pve.order){\n",
    "              barplot(factors[,i], main=paste0('Factor ',i, ' pve= ', round(flashr::flash_get_pve(fmodel)[i],3)), las=2, cex.names = 0.7)\n",
    "            }\n",
    "            dev.off()\n",
    "          }\n",
    "        # flash on the loading\n",
    "        K = min(K, ncol(fmodel$EL))\n",
    "        loading = fmodel$EL[,1:K]\n",
    "        colnames(loading) = paste0('Factor',seq(1,K))\n",
    "        flash.loading = flashr::flash_set_data(loading)\n",
    "        flmodel = flashr::flash(flash.loading, greedy = TRUE, backfit = TRUE)\n",
    "        # Cluster loadings\n",
    "        library(mclust)\n",
    "        mod = Mclust(loading)\n",
    "        U_list = plyr::alply(mod$parameters$variance$sigma,3)\n",
    "        mu_list = plyr::alply(mod$parameters$mean,2)\n",
    "        ll = list()\n",
    "        for (i in 1:length(U_list)){\n",
    "          ll[[i]] = U_list[[i]] + mu_list[[i]] %*% t(mu_list[[i]])\n",
    "        }\n",
    "        Factors = fmodel$EF[,1:5]\n",
    "        U.loading = lapply(ll, function(U){Factors %*% (U %*% t(Factors))})\n",
    "        names(U.loading) = paste0('Load', K, \"_\", (1:length(U.loading)))\n",
    "        # rank 1\n",
    "        Flash_res = flashr::flash_get_lf(fmodel)\n",
    "        U.flash = c(mashr::cov_from_factors(t(as.matrix(factors)), \"Flash\"),\n",
    "                    list(\"tFlash\" = t(Flash_res) %*% Flash_res / nrow(Z.center)))\n",
    "        return(list(U.loading = U.loading, U.flash = U.flash))\n",
    "    }\n",
    "    #\n",
    "    res = get_flash_prior(readRDS(${_input:r})$strong.z)\n",
    "    saveRDS(res, ${_output:r})"
   ]
  },
  {
   "cell_type": "markdown",
   "metadata": {},
   "source": [
    "### MASH analysis"
   ]
  },
  {
   "cell_type": "code",
   "execution_count": null,
   "metadata": {
    "collapsed": true,
    "kernel": "SoS"
   },
   "outputs": [],
   "source": [
    "[default_1: shared = {'mash_input': '_input', 'mash_vhat': '_output[1]'}]\n",
    "# Compute data-driven / canonical prior matrices (time estimate: ~2h)\n",
    "depends: R_library(\"ExtremeDeconvolution\"), R_library(\"mashr@stephenslab/mashr\"), flash_data\n",
    "K = 3 # as in mash paper\n",
    "P = 3 # as in mash paper\n",
    "input: f\"{data:a}\"\n",
    "output: f\"{cwd:a}/{data:bn}.V{vhat}.K{K}.P{P}.rds\", f\"{cwd:a}/{data:bn}.Vhat.rds\"\n",
    "R: expand = \"${ }\", workdir = cwd\n",
    "    dat = readRDS(${_input:r})\n",
    "    data_temp = mashr::mash_set_data(as.matrix(dat$random.b), as.matrix(dat$random.s))\n",
    "    vhat = mashr::estimate_null_correlation(data_temp)\n",
    "    rm(data_temp)\n",
    "    mash_data = mashr::mash_set_data(as.matrix(dat$strong.b), Shat=as.matrix(dat$strong.s), alpha=${alpha}, V=${\"vhat\" if vhat else \"diag(nrow(vhat))\"})\n",
    "    # FLASH matrices\n",
    "    flash_res = readRDS(${flash_data:r})\n",
    "    # SVD matrices\n",
    "    U.pca = mashr::cov_pca(mash_data, ${P})\n",
    "    # D.center is used to compute emperical cov matrix\n",
    "    D.center = apply(as.matrix(dat$strong.z), 2, function(x) x - mean(x))\n",
    "    # Denoised data-driven matrices\n",
    "    U.dd = c(flash_res$U.flash, flash_res$U.loading, U.pca, list(\"XX\" = t(D.center) %*% D.center / nrow(dat$strong.z)))\n",
    "    U.ed = mashr::cov_ed(mash_data, U.dd)\n",
    "    # Canonical matrices\n",
    "    U.can = mashr::cov_canonical(mash_data)\n",
    "    saveRDS(list(Ulist = c(U.ed, U.can), DD_raw = U.dd), ${_output[0]:r})\n",
    "    saveRDS(vhat, ${_output[1]:r})"
   ]
  },
  {
   "cell_type": "code",
   "execution_count": null,
   "metadata": {
    "collapsed": true,
    "kernel": "SoS"
   },
   "outputs": [],
   "source": [
    "[default_2]\n",
    "# Fit MASH mixture model (time estimate: <5min)\n",
    "depends: R_library(\"REBayes\"), sos_variable('mash_input'), sos_variable('mash_vhat')\n",
    "output: f\"{_input:n}.mash_model.rds\"\n",
    "R: expand = \"${ }\", workdir = cwd, env = {'MOSEKLM_LICENSE_FILE': str(mosek_license)}\n",
    "    dat = readRDS(${mash_input:r})\n",
    "    vhat = readRDS(${mash_vhat:r})\n",
    "    mash_data = mashr::mash_set_data(as.matrix(dat$random.b), Shat=as.matrix(dat$random.s), alpha=${alpha}, V=${\"vhat\" if vhat else \"diag(nrow(vhat))\"})\n",
    "    saveRDS(mashr::mash(mash_data, Ulist = readRDS(${_input:r})$Ulist, outputlevel = 1), ${_output:r})"
   ]
  },
  {
   "cell_type": "code",
   "execution_count": null,
   "metadata": {
    "collapsed": true,
    "kernel": "SoS"
   },
   "outputs": [],
   "source": [
    "[default_3]\n",
    "# Posterior inference on the \"top\" set of gene-snp pairs (time estimate: <3min)\n",
    "depends: sos_variable('mash_input'), sos_variable('mash_vhat')\n",
    "output: f\"{_input:n}.posterior.rds\"\n",
    "R: expand = \"${ }\", workdir = cwd\n",
    "    dat = readRDS(${mash_input:r})\n",
    "    vhat = readRDS(${mash_vhat:r})\n",
    "    mash_data = mashr::mash_set_data(as.matrix(dat$strong.b), Shat=as.matrix(dat$strong.s), alpha=${alpha}, V=${\"vhat\" if vhat else \"diag(nrow(vhat))\"})\n",
    "    saveRDS(mashr::mash_compute_posterior_matrices(readRDS(${_input:r}), mash_data), ${_output:r})"
   ]
  },
  {
   "cell_type": "code",
   "execution_count": 1,
   "metadata": {
    "kernel": "SoS"
   },
   "outputs": [
    {
     "data": {
      "text/html": [
       "<p class=\"session_section\">SoS</p>\n",
       "<table class=\"session_info\">\n",
       "<tr>\n",
       "<th>SoS Version</th><td><pre>0.9.14.2</pre></td>\n",
       "</tr>\n",
       "</table>\n"
      ]
     },
     "metadata": {},
     "output_type": "display_data"
    }
   ],
   "source": [
    "%sessioninfo"
   ]
  }
 ],
 "metadata": {
  "celltoolbar": "Tags",
  "kernelspec": {
   "display_name": "SoS",
   "language": "sos",
   "name": "sos"
  },
  "language_info": {
   "codemirror_mode": "sos",
   "file_extension": ".sos",
   "mimetype": "text/x-sos",
   "name": "sos",
   "nbconvert_exporter": "sos_notebook.converter.SoS_Exporter",
   "pygments_lexer": "sos"
  },
  "sos": {
   "default_kernel": "SoS",
   "kernels": [
    [
     "SoS",
     "sos",
     "",
     ""
    ]
   ],
   "panel": {
    "displayed": true,
    "height": 0,
    "style": "side"
   },
   "version": "0.9.12.11"
  }
 },
 "nbformat": 4,
 "nbformat_minor": 2
}
