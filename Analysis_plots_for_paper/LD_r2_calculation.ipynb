{
 "cells": [
  {
   "cell_type": "markdown",
   "metadata": {},
   "source": [
    "# LD calculation between top eQTL in GTEx V6 data\n",
    "This version is based on simple correlation coefficient $r^2$ and the complete procedure is demonstarted in this notebook."
   ]
  },
  {
   "cell_type": "markdown",
   "metadata": {},
   "source": [
    "## Load genotype matrix"
   ]
  },
  {
   "cell_type": "code",
   "execution_count": null,
   "metadata": {
    "collapsed": false
   },
   "outputs": [],
   "source": [
    "import pandas as pd\n",
    "import numpy as np\n",
    "head = pd.read_csv(\"Whole_Blood_Analysis.snps.txt.gz\", sep = '\\t', nrows = 1)\n",
    "dtype = {'Id': str}\n",
    "dtype.update({x: np.float16 for x in head.columns if x != 'Id'})\n",
    "geno = pd.read_csv(\"Whole_Blood_Analysis.snps.txt.gz\", sep = '\\t', index_col = 0, header = 0, dtype = dtype).T "
   ]
  },
  {
   "cell_type": "markdown",
   "metadata": {},
   "source": [
    "## Load SNPs of interest"
   ]
  },
  {
   "cell_type": "code",
   "execution_count": null,
   "metadata": {
    "collapsed": false
   },
   "outputs": [],
   "source": [
    "# {chr: (pos, name)}\n",
    "snps = [(y[1], (int(y[2]), \"_\".join(y[1:]))) for y in [x.strip().split('_') for x in open('SNPList.maxz.txt').readlines()]]\n",
    "snps = {chrom: [y[1] for y in sorted(set([item[1] for item in snps if item[0] == chrom]))] for chrom in set([x[0] for x in snps])}"
   ]
  },
  {
   "cell_type": "markdown",
   "metadata": {},
   "source": [
    "## Extract genotype of interest by chromosome"
   ]
  },
  {
   "cell_type": "code",
   "execution_count": null,
   "metadata": {
    "collapsed": false
   },
   "outputs": [],
   "source": [
    "data = {}\n",
    "for key in snps:\n",
    "    names = [x for x in snps[key] if x in geno.columns]\n",
    "    if names:\n",
    "        data[key] = geno[names]"
   ]
  },
  {
   "cell_type": "markdown",
   "metadata": {},
   "source": [
    "## Calculate $r^2$ for SNPs per chromosome"
   ]
  },
  {
   "cell_type": "code",
   "execution_count": null,
   "metadata": {
    "collapsed": false
   },
   "outputs": [],
   "source": [
    "LD = {key: np.power(data[key].corr(method = 'pearson'), 2) for key in data}"
   ]
  },
  {
   "cell_type": "markdown",
   "metadata": {},
   "source": [
    "## Do the same analysis for combined data"
   ]
  },
  {
   "cell_type": "code",
   "execution_count": null,
   "metadata": {
    "collapsed": true
   },
   "outputs": [],
   "source": [
    "all_data = pd.concat(data.values(), axis = 1)\n",
    "all_LD = np.power(all_data.corr(method = 'pearson'), 2)"
   ]
  },
  {
   "cell_type": "markdown",
   "metadata": {},
   "source": [
    "## Save result as R data frame via `feather`"
   ]
  },
  {
   "cell_type": "code",
   "execution_count": null,
   "metadata": {
    "collapsed": true
   },
   "outputs": [],
   "source": [
    "import feather\n",
    "for key in LD:\n",
    "    feather.write_dataframe(LD[key].copy(), \"LD_chrom_{}.feather\".format(key))\n",
    "feather.write_dataframe(all_LD.copy(), \"LD_all.feather\".format(key))"
   ]
  }
 ],
 "metadata": {
  "kernelspec": {
   "display_name": "Python 3",
   "language": "python",
   "name": "python3"
  },
  "language_info": {
   "codemirror_mode": {
    "name": "ipython",
    "version": 3
   },
   "file_extension": ".py",
   "mimetype": "text/x-python",
   "name": "python",
   "nbconvert_exporter": "python",
   "pygments_lexer": "ipython3",
   "version": "3.5.2"
  }
 },
 "nbformat": 4,
 "nbformat_minor": 2
}
