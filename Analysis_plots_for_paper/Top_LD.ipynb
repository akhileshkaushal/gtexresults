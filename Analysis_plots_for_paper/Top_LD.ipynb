{
 "cells": [
  {
   "cell_type": "markdown",
   "metadata": {},
   "source": [
    "# LD calculation between top eQTL in GTEx V6 data"
   ]
  },
  {
   "cell_type": "markdown",
   "metadata": {},
   "source": [
    "Here we compute the LD between the 16K top eQTL we analyzed in GTEx data. Two methods were used:\n",
    "\n",
    "1. Simple correlation between genotypes\n",
    "2. A sparse method (Wen & Stephens 2010)\n",
    "\n",
    "We expect to see very weak LD between genotypes. We use Whole Blood sample genotypes because it has a large sample size.\n",
    "\n",
    "## A survey of LD > 0.5\n",
    "\n",
    "We take a look at sparse method result for chromosome 1. "
   ]
  },
  {
   "cell_type": "code",
   "execution_count": 1,
   "metadata": {
    "collapsed": false
   },
   "outputs": [
    {
     "name": "stderr",
     "output_type": "stream",
     "text": [
      "Loading required package: Matrix\n"
     ]
    },
    {
     "data": {
      "text/html": [
       "1526"
      ],
      "text/latex": [
       "1526"
      ],
      "text/markdown": [
       "1526"
      ],
      "text/plain": [
       "[1] 1526"
      ]
     },
     "metadata": {},
     "output_type": "display_data"
    }
   ],
   "source": [
    "dat = as.matrix(readRDS(\"LD_Whole_Blood_1.RDS\"))\n",
    "dim(dat)[1]"
   ]
  },
  {
   "cell_type": "markdown",
   "metadata": {},
   "source": [
    "We mark the upper triangle and diagonal of the matrix zero, because the matrix is symetric with diagonal elements equal 1. We want to focus on values in the lower triangle."
   ]
  },
  {
   "cell_type": "code",
   "execution_count": 2,
   "metadata": {
    "collapsed": false
   },
   "outputs": [],
   "source": [
    "dat0 = dat\n",
    "diag(dat) = 0\n",
    "dat[upper.tri(dat)] = 0"
   ]
  },
  {
   "cell_type": "markdown",
   "metadata": {},
   "source": [
    "Now we count the proportion of LD pairs having LD greater than 0.5:"
   ]
  },
  {
   "cell_type": "code",
   "execution_count": 3,
   "metadata": {
    "collapsed": false
   },
   "outputs": [
    {
     "data": {
      "text/html": [
       "0.000932471048277936"
      ],
      "text/latex": [
       "0.000932471048277936"
      ],
      "text/markdown": [
       "0.000932471048277936"
      ],
      "text/plain": [
       "[1] 0.000932471"
      ]
     },
     "metadata": {},
     "output_type": "display_data"
    }
   ],
   "source": [
    "sum(abs(dat) > 0.5) / ((dim(dat)[1]^2 - dim(dat)[1])/ 2)"
   ]
  },
  {
   "cell_type": "markdown",
   "metadata": {},
   "source": [
    "The SNPs involved are (**unique row and column names of TRUE entries**):"
   ]
  },
  {
   "cell_type": "code",
   "execution_count": 4,
   "metadata": {
    "collapsed": false
   },
   "outputs": [
    {
     "data": {
      "text/html": [
       "800"
      ],
      "text/latex": [
       "800"
      ],
      "text/markdown": [
       "800"
      ],
      "text/plain": [
       "[1] 800"
      ]
     },
     "metadata": {},
     "output_type": "display_data"
    }
   ],
   "source": [
    "m = abs(dat) > 0.5\n",
    "snps <- c(rownames(m)[row(m)[which(m)]], colnames(m)[col(m)[which(m)]])\n",
    "snps <- unlist(lapply(snps, function(x) (paste(strsplit(x, '_')[[1]][-1], collapse = '_'))))\n",
    "length(unique(snps))"
   ]
  },
  {
   "cell_type": "markdown",
   "metadata": {},
   "source": [
    "## Putting together all chroms"
   ]
  },
  {
   "cell_type": "code",
   "execution_count": 5,
   "metadata": {
    "collapsed": false
   },
   "outputs": [],
   "source": [
    "grid = c(0.5, 0.6, 0.7, 0.8, 0.9)\n",
    "prop = matrix(0, length(grid), 22)\n",
    "snps = matrix(0, length(grid), 22)\n",
    "n_snps = 0\n",
    "for (i in 1:22) {\n",
    "    tmp = as.matrix(readRDS(paste0(\"LD_Whole_Blood_\", i, \".RDS\")))\n",
    "    diag(tmp) = 0\n",
    "    tmp[upper.tri(tmp)] = 0\n",
    "    n_snps = n_snps + dim(tmp)[1]\n",
    "    for (j in 1:length(grid)) {\n",
    "        m = abs(tmp) > grid[j]\n",
    "        prop[j,i] = sum(m) / ((dim(tmp)[1]^2 - dim(tmp)[1])/ 2)\n",
    "        ss = c(rownames(m)[row(m)[which(m)]], colnames(m)[col(m)[which(m)]])\n",
    "        ss = unlist(lapply(ss, function(x) (paste(strsplit(x, '_')[[1]][-1], collapse = '_'))))\n",
    "        snps[j,i] = length(unique(ss))\n",
    "    }\n",
    "}"
   ]
  },
  {
   "cell_type": "markdown",
   "metadata": {},
   "source": [
    "Here is summary of proportion of pairs on each chromosome (row) having LD greater than thresholds (column)"
   ]
  },
  {
   "cell_type": "code",
   "execution_count": 6,
   "metadata": {
    "collapsed": false
   },
   "outputs": [
    {
     "data": {
      "text/html": [
       "<table>\n",
       "<thead><tr><th></th><th scope=col>0.5</th><th scope=col>0.6</th><th scope=col>0.7</th><th scope=col>0.8</th><th scope=col>0.9</th></tr></thead>\n",
       "<tbody>\n",
       "\t<tr><th scope=row>chr 1</th><td>0.0009324710</td><td>0.0005990160</td><td>0.0003927551</td><td>0.0002604044</td><td>0.0001392261</td></tr>\n",
       "\t<tr><th scope=row>chr 2</th><td>0.0011014421</td><td>0.0007685010</td><td>0.0005290571</td><td>0.0003443432</td><td>0.0001915552</td></tr>\n",
       "\t<tr><th scope=row>chr 3</th><td>0.0017717942</td><td>0.0012900472</td><td>0.0008179999</td><td>0.0004591146</td><td>0.0002942213</td></tr>\n",
       "\t<tr><th scope=row>chr 4</th><td>0.0012087494</td><td>0.0009189807</td><td>0.0006788866</td><td>0.0004801881</td><td>0.0002318149</td></tr>\n",
       "\t<tr><th scope=row>chr 5</th><td>0.0007513954</td><td>0.0005367110</td><td>0.0003220266</td><td>0.0003220266</td><td>0.0001073422</td></tr>\n",
       "\t<tr><th scope=row>chr 6</th><td>0.0012736848</td><td>0.0007775679</td><td>0.0005867537</td><td>0.0004436430</td><td>0.0003005324</td></tr>\n",
       "\t<tr><th scope=row>chr 7</th><td>0.0019096294</td><td>0.0013391177</td><td>0.0009746241</td><td>0.0006537113</td><td>0.0003644936</td></tr>\n",
       "\t<tr><th scope=row>chr 8</th><td>0.0018098755</td><td>0.0014376834</td><td>0.0010654912</td><td>0.0006568097</td><td>0.0003138091</td></tr>\n",
       "\t<tr><th scope=row>chr 9</th><td>0.0019810219</td><td>0.0014407432</td><td>0.0009998261</td><td>0.0005589090</td><td>0.0003477656</td></tr>\n",
       "\t<tr><th scope=row>chr 10</th><td>0.0019689407</td><td>0.0014531337</td><td>0.0011203550</td><td>0.0007210205</td><td>0.0003105935</td></tr>\n",
       "\t<tr><th scope=row>chr 11</th><td>0.0015210374</td><td>0.0011090252</td><td>0.0007961438</td><td>0.0005854910</td><td>0.0003345663</td></tr>\n",
       "\t<tr><th scope=row>chr 12</th><td>0.0017202931</td><td>0.0011693495</td><td>0.0007533310</td><td>0.0005359519</td><td>0.0003073290</td></tr>\n",
       "\t<tr><th scope=row>chr 13</th><td>0.0017670393</td><td>0.0011539849</td><td>0.0007933646</td><td>0.0005409304</td><td>0.0001442481</td></tr>\n",
       "\t<tr><th scope=row>chr 14</th><td>0.0020505376</td><td>0.0014607812</td><td>0.0009708297</td><td>0.0007440004</td><td>0.0004173661</td></tr>\n",
       "\t<tr><th scope=row>chr 15</th><td>0.0024227741</td><td>0.0016928357</td><td>0.0011104381</td><td>0.0007920608</td><td>0.0003183774</td></tr>\n",
       "\t<tr><th scope=row>chr 16</th><td>0.0038771887</td><td>0.0026301170</td><td>0.0016666472</td><td>0.0010023193</td><td>0.0004700800</td></tr>\n",
       "\t<tr><th scope=row>chr 17</th><td>0.0016679791</td><td>0.0011716420</td><td>0.0008566588</td><td>0.0005750829</td><td>0.0003102107</td></tr>\n",
       "\t<tr><th scope=row>chr 18</th><td>0.0022277917</td><td>0.0015037594</td><td>0.0009468115</td><td>0.0007240323</td><td>0.0003898635</td></tr>\n",
       "\t<tr><th scope=row>chr 19</th><td>0.0010017714</td><td>0.0007103153</td><td>0.0004886690</td><td>0.0003246158</td><td>0.0001867414</td></tr>\n",
       "\t<tr><th scope=row>chr 20</th><td>0.0026233100</td><td>0.0017584825</td><td>0.0012107585</td><td>0.0006630344</td><td>0.0002882758</td></tr>\n",
       "\t<tr><th scope=row>chr 21</th><td>0.0048975150</td><td>0.0034463994</td><td>0.0022673680</td><td>0.0013604208</td><td>0.0008162525</td></tr>\n",
       "\t<tr><th scope=row>chr 22</th><td>0.0038526331</td><td>0.0026807295</td><td>0.0018896946</td><td>0.0014355819</td><td>0.0006445470</td></tr>\n",
       "</tbody>\n",
       "</table>\n"
      ],
      "text/latex": [
       "\\begin{tabular}{r|lllll}\n",
       "  & 0.5 & 0.6 & 0.7 & 0.8 & 0.9\\\\\n",
       "\\hline\n",
       "\tchr 1 & 0.0009324710 & 0.0005990160 & 0.0003927551 & 0.0002604044 & 0.0001392261\\\\\n",
       "\tchr 2 & 0.0011014421 & 0.0007685010 & 0.0005290571 & 0.0003443432 & 0.0001915552\\\\\n",
       "\tchr 3 & 0.0017717942 & 0.0012900472 & 0.0008179999 & 0.0004591146 & 0.0002942213\\\\\n",
       "\tchr 4 & 0.0012087494 & 0.0009189807 & 0.0006788866 & 0.0004801881 & 0.0002318149\\\\\n",
       "\tchr 5 & 0.0007513954 & 0.0005367110 & 0.0003220266 & 0.0003220266 & 0.0001073422\\\\\n",
       "\tchr 6 & 0.0012736848 & 0.0007775679 & 0.0005867537 & 0.0004436430 & 0.0003005324\\\\\n",
       "\tchr 7 & 0.0019096294 & 0.0013391177 & 0.0009746241 & 0.0006537113 & 0.0003644936\\\\\n",
       "\tchr 8 & 0.0018098755 & 0.0014376834 & 0.0010654912 & 0.0006568097 & 0.0003138091\\\\\n",
       "\tchr 9 & 0.0019810219 & 0.0014407432 & 0.0009998261 & 0.0005589090 & 0.0003477656\\\\\n",
       "\tchr 10 & 0.0019689407 & 0.0014531337 & 0.0011203550 & 0.0007210205 & 0.0003105935\\\\\n",
       "\tchr 11 & 0.0015210374 & 0.0011090252 & 0.0007961438 & 0.0005854910 & 0.0003345663\\\\\n",
       "\tchr 12 & 0.0017202931 & 0.0011693495 & 0.0007533310 & 0.0005359519 & 0.0003073290\\\\\n",
       "\tchr 13 & 0.0017670393 & 0.0011539849 & 0.0007933646 & 0.0005409304 & 0.0001442481\\\\\n",
       "\tchr 14 & 0.0020505376 & 0.0014607812 & 0.0009708297 & 0.0007440004 & 0.0004173661\\\\\n",
       "\tchr 15 & 0.0024227741 & 0.0016928357 & 0.0011104381 & 0.0007920608 & 0.0003183774\\\\\n",
       "\tchr 16 & 0.0038771887 & 0.0026301170 & 0.0016666472 & 0.0010023193 & 0.0004700800\\\\\n",
       "\tchr 17 & 0.0016679791 & 0.0011716420 & 0.0008566588 & 0.0005750829 & 0.0003102107\\\\\n",
       "\tchr 18 & 0.0022277917 & 0.0015037594 & 0.0009468115 & 0.0007240323 & 0.0003898635\\\\\n",
       "\tchr 19 & 0.0010017714 & 0.0007103153 & 0.0004886690 & 0.0003246158 & 0.0001867414\\\\\n",
       "\tchr 20 & 0.0026233100 & 0.0017584825 & 0.0012107585 & 0.0006630344 & 0.0002882758\\\\\n",
       "\tchr 21 & 0.0048975150 & 0.0034463994 & 0.0022673680 & 0.0013604208 & 0.0008162525\\\\\n",
       "\tchr 22 & 0.0038526331 & 0.0026807295 & 0.0018896946 & 0.0014355819 & 0.0006445470\\\\\n",
       "\\end{tabular}\n"
      ],
      "text/markdown": [
       "\n",
       "| <!--/--> | 0.5 | 0.6 | 0.7 | 0.8 | 0.9 | \n",
       "|---|---|---|---|---|---|---|---|---|---|---|---|---|---|---|---|---|---|---|---|---|---|\n",
       "| chr 1 | 0.0009324710 | 0.0005990160 | 0.0003927551 | 0.0002604044 | 0.0001392261 | \n",
       "| chr 2 | 0.0011014421 | 0.0007685010 | 0.0005290571 | 0.0003443432 | 0.0001915552 | \n",
       "| chr 3 | 0.0017717942 | 0.0012900472 | 0.0008179999 | 0.0004591146 | 0.0002942213 | \n",
       "| chr 4 | 0.0012087494 | 0.0009189807 | 0.0006788866 | 0.0004801881 | 0.0002318149 | \n",
       "| chr 5 | 0.0007513954 | 0.0005367110 | 0.0003220266 | 0.0003220266 | 0.0001073422 | \n",
       "| chr 6 | 0.0012736848 | 0.0007775679 | 0.0005867537 | 0.0004436430 | 0.0003005324 | \n",
       "| chr 7 | 0.0019096294 | 0.0013391177 | 0.0009746241 | 0.0006537113 | 0.0003644936 | \n",
       "| chr 8 | 0.0018098755 | 0.0014376834 | 0.0010654912 | 0.0006568097 | 0.0003138091 | \n",
       "| chr 9 | 0.0019810219 | 0.0014407432 | 0.0009998261 | 0.0005589090 | 0.0003477656 | \n",
       "| chr 10 | 0.0019689407 | 0.0014531337 | 0.0011203550 | 0.0007210205 | 0.0003105935 | \n",
       "| chr 11 | 0.0015210374 | 0.0011090252 | 0.0007961438 | 0.0005854910 | 0.0003345663 | \n",
       "| chr 12 | 0.0017202931 | 0.0011693495 | 0.0007533310 | 0.0005359519 | 0.0003073290 | \n",
       "| chr 13 | 0.0017670393 | 0.0011539849 | 0.0007933646 | 0.0005409304 | 0.0001442481 | \n",
       "| chr 14 | 0.0020505376 | 0.0014607812 | 0.0009708297 | 0.0007440004 | 0.0004173661 | \n",
       "| chr 15 | 0.0024227741 | 0.0016928357 | 0.0011104381 | 0.0007920608 | 0.0003183774 | \n",
       "| chr 16 | 0.0038771887 | 0.0026301170 | 0.0016666472 | 0.0010023193 | 0.0004700800 | \n",
       "| chr 17 | 0.0016679791 | 0.0011716420 | 0.0008566588 | 0.0005750829 | 0.0003102107 | \n",
       "| chr 18 | 0.0022277917 | 0.0015037594 | 0.0009468115 | 0.0007240323 | 0.0003898635 | \n",
       "| chr 19 | 0.0010017714 | 0.0007103153 | 0.0004886690 | 0.0003246158 | 0.0001867414 | \n",
       "| chr 20 | 0.0026233100 | 0.0017584825 | 0.0012107585 | 0.0006630344 | 0.0002882758 | \n",
       "| chr 21 | 0.0048975150 | 0.0034463994 | 0.0022673680 | 0.0013604208 | 0.0008162525 | \n",
       "| chr 22 | 0.0038526331 | 0.0026807295 | 0.0018896946 | 0.0014355819 | 0.0006445470 | \n",
       "\n",
       "\n"
      ],
      "text/plain": [
       "       0.5          0.6          0.7          0.8          0.9         \n",
       "chr 1  0.0009324710 0.0005990160 0.0003927551 0.0002604044 0.0001392261\n",
       "chr 2  0.0011014421 0.0007685010 0.0005290571 0.0003443432 0.0001915552\n",
       "chr 3  0.0017717942 0.0012900472 0.0008179999 0.0004591146 0.0002942213\n",
       "chr 4  0.0012087494 0.0009189807 0.0006788866 0.0004801881 0.0002318149\n",
       "chr 5  0.0007513954 0.0005367110 0.0003220266 0.0003220266 0.0001073422\n",
       "chr 6  0.0012736848 0.0007775679 0.0005867537 0.0004436430 0.0003005324\n",
       "chr 7  0.0019096294 0.0013391177 0.0009746241 0.0006537113 0.0003644936\n",
       "chr 8  0.0018098755 0.0014376834 0.0010654912 0.0006568097 0.0003138091\n",
       "chr 9  0.0019810219 0.0014407432 0.0009998261 0.0005589090 0.0003477656\n",
       "chr 10 0.0019689407 0.0014531337 0.0011203550 0.0007210205 0.0003105935\n",
       "chr 11 0.0015210374 0.0011090252 0.0007961438 0.0005854910 0.0003345663\n",
       "chr 12 0.0017202931 0.0011693495 0.0007533310 0.0005359519 0.0003073290\n",
       "chr 13 0.0017670393 0.0011539849 0.0007933646 0.0005409304 0.0001442481\n",
       "chr 14 0.0020505376 0.0014607812 0.0009708297 0.0007440004 0.0004173661\n",
       "chr 15 0.0024227741 0.0016928357 0.0011104381 0.0007920608 0.0003183774\n",
       "chr 16 0.0038771887 0.0026301170 0.0016666472 0.0010023193 0.0004700800\n",
       "chr 17 0.0016679791 0.0011716420 0.0008566588 0.0005750829 0.0003102107\n",
       "chr 18 0.0022277917 0.0015037594 0.0009468115 0.0007240323 0.0003898635\n",
       "chr 19 0.0010017714 0.0007103153 0.0004886690 0.0003246158 0.0001867414\n",
       "chr 20 0.0026233100 0.0017584825 0.0012107585 0.0006630344 0.0002882758\n",
       "chr 21 0.0048975150 0.0034463994 0.0022673680 0.0013604208 0.0008162525\n",
       "chr 22 0.0038526331 0.0026807295 0.0018896946 0.0014355819 0.0006445470"
      ]
     },
     "metadata": {},
     "output_type": "display_data"
    },
    {
     "data": {
      "text/html": [
       "<dl class=dl-horizontal>\n",
       "\t<dt>0.5</dt>\n",
       "\t\t<dd>0.00201540340443304</dd>\n",
       "\t<dt>0.6</dt>\n",
       "\t\t<dd>0.00141131470032905</dd>\n",
       "\t<dt>0.7</dt>\n",
       "\t\t<dd>0.000965385917282125</dd>\n",
       "\t<dt>0.8</dt>\n",
       "\t\t<dd>0.000644713282771188</dd>\n",
       "\t<dt>0.9</dt>\n",
       "\t\t<dd>0.000328600523516909</dd>\n",
       "</dl>\n"
      ],
      "text/latex": [
       "\\begin{description*}\n",
       "\\item[0.5] 0.00201540340443304\n",
       "\\item[0.6] 0.00141131470032905\n",
       "\\item[0.7] 0.000965385917282125\n",
       "\\item[0.8] 0.000644713282771188\n",
       "\\item[0.9] 0.000328600523516909\n",
       "\\end{description*}\n"
      ],
      "text/markdown": [
       "0.5\n",
       ":   0.002015403404433040.6\n",
       ":   0.001411314700329050.7\n",
       ":   0.0009653859172821250.8\n",
       ":   0.0006447132827711880.9\n",
       ":   0.000328600523516909\n",
       "\n"
      ],
      "text/plain": [
       "         0.5          0.6          0.7          0.8          0.9 \n",
       "0.0020154034 0.0014113147 0.0009653859 0.0006447133 0.0003286005 "
      ]
     },
     "metadata": {},
     "output_type": "display_data"
    }
   ],
   "source": [
    "prop = data.frame(t(prop))\n",
    "colnames(prop) = grid\n",
    "rownames(prop) = paste('chr', 1:22)\n",
    "prop\n",
    "apply(prop, 2, mean)"
   ]
  },
  {
   "cell_type": "markdown",
   "metadata": {},
   "source": [
    "Here is summary of number of unique SNPs involved on each chromosome (row) having LD greater than thresholds (column)"
   ]
  },
  {
   "cell_type": "code",
   "execution_count": 7,
   "metadata": {
    "collapsed": false
   },
   "outputs": [
    {
     "data": {
      "text/html": [
       "<table>\n",
       "<thead><tr><th></th><th scope=col>0.5</th><th scope=col>0.6</th><th scope=col>0.7</th><th scope=col>0.8</th><th scope=col>0.9</th></tr></thead>\n",
       "<tbody>\n",
       "\t<tr><th scope=row>chr 1</th><td>800</td><td>668</td><td>524</td><td>412</td><td>257</td></tr>\n",
       "\t<tr><th scope=row>chr 2</th><td>422</td><td>346</td><td>268</td><td>204</td><td>136</td></tr>\n",
       "\t<tr><th scope=row>chr 3</th><td>366</td><td>309</td><td>253</td><td>172</td><td>124</td></tr>\n",
       "\t<tr><th scope=row>chr 4</th><td>176</td><td>139</td><td>116</td><td> 90</td><td> 52</td></tr>\n",
       "\t<tr><th scope=row>chr 5</th><td> 14</td><td> 10</td><td>  6</td><td>  6</td><td>  2</td></tr>\n",
       "\t<tr><th scope=row>chr 6</th><td>258</td><td>190</td><td>152</td><td>114</td><td> 88</td></tr>\n",
       "\t<tr><th scope=row>chr 7</th><td>345</td><td>309</td><td>253</td><td>187</td><td>127</td></tr>\n",
       "\t<tr><th scope=row>chr 8</th><td>219</td><td>185</td><td>145</td><td>103</td><td> 68</td></tr>\n",
       "\t<tr><th scope=row>chr 9</th><td>256</td><td>206</td><td>166</td><td>124</td><td> 83</td></tr>\n",
       "\t<tr><th scope=row>chr 10</th><td>278</td><td>222</td><td>185</td><td>125</td><td> 78</td></tr>\n",
       "\t<tr><th scope=row>chr 11</th><td>411</td><td>362</td><td>288</td><td>236</td><td>153</td></tr>\n",
       "\t<tr><th scope=row>chr 12</th><td>349</td><td>294</td><td>224</td><td>178</td><td>115</td></tr>\n",
       "\t<tr><th scope=row>chr 13</th><td> 66</td><td> 47</td><td> 35</td><td> 27</td><td>  8</td></tr>\n",
       "\t<tr><th scope=row>chr 14</th><td>218</td><td>179</td><td>141</td><td>114</td><td> 66</td></tr>\n",
       "\t<tr><th scope=row>chr 15</th><td>253</td><td>210</td><td>150</td><td>114</td><td> 69</td></tr>\n",
       "\t<tr><th scope=row>chr 16</th><td>445</td><td>383</td><td>319</td><td>233</td><td>159</td></tr>\n",
       "\t<tr><th scope=row>chr 17</th><td>516</td><td>428</td><td>350</td><td>273</td><td>166</td></tr>\n",
       "\t<tr><th scope=row>chr 18</th><td> 52</td><td> 39</td><td> 27</td><td> 20</td><td> 10</td></tr>\n",
       "\t<tr><th scope=row>chr 19</th><td>557</td><td>449</td><td>373</td><td>269</td><td>163</td></tr>\n",
       "\t<tr><th scope=row>chr 20</th><td>148</td><td>117</td><td>105</td><td> 69</td><td> 40</td></tr>\n",
       "\t<tr><th scope=row>chr 21</th><td> 66</td><td> 56</td><td> 40</td><td> 24</td><td> 18</td></tr>\n",
       "\t<tr><th scope=row>chr 22</th><td>202</td><td>165</td><td>124</td><td> 99</td><td> 58</td></tr>\n",
       "</tbody>\n",
       "</table>\n"
      ],
      "text/latex": [
       "\\begin{tabular}{r|lllll}\n",
       "  & 0.5 & 0.6 & 0.7 & 0.8 & 0.9\\\\\n",
       "\\hline\n",
       "\tchr 1 & 800 & 668 & 524 & 412 & 257\\\\\n",
       "\tchr 2 & 422 & 346 & 268 & 204 & 136\\\\\n",
       "\tchr 3 & 366 & 309 & 253 & 172 & 124\\\\\n",
       "\tchr 4 & 176 & 139 & 116 &  90 &  52\\\\\n",
       "\tchr 5 &  14 &  10 &   6 &   6 &   2\\\\\n",
       "\tchr 6 & 258 & 190 & 152 & 114 &  88\\\\\n",
       "\tchr 7 & 345 & 309 & 253 & 187 & 127\\\\\n",
       "\tchr 8 & 219 & 185 & 145 & 103 &  68\\\\\n",
       "\tchr 9 & 256 & 206 & 166 & 124 &  83\\\\\n",
       "\tchr 10 & 278 & 222 & 185 & 125 &  78\\\\\n",
       "\tchr 11 & 411 & 362 & 288 & 236 & 153\\\\\n",
       "\tchr 12 & 349 & 294 & 224 & 178 & 115\\\\\n",
       "\tchr 13 &  66 &  47 &  35 &  27 &   8\\\\\n",
       "\tchr 14 & 218 & 179 & 141 & 114 &  66\\\\\n",
       "\tchr 15 & 253 & 210 & 150 & 114 &  69\\\\\n",
       "\tchr 16 & 445 & 383 & 319 & 233 & 159\\\\\n",
       "\tchr 17 & 516 & 428 & 350 & 273 & 166\\\\\n",
       "\tchr 18 &  52 &  39 &  27 &  20 &  10\\\\\n",
       "\tchr 19 & 557 & 449 & 373 & 269 & 163\\\\\n",
       "\tchr 20 & 148 & 117 & 105 &  69 &  40\\\\\n",
       "\tchr 21 &  66 &  56 &  40 &  24 &  18\\\\\n",
       "\tchr 22 & 202 & 165 & 124 &  99 &  58\\\\\n",
       "\\end{tabular}\n"
      ],
      "text/markdown": [
       "\n",
       "| <!--/--> | 0.5 | 0.6 | 0.7 | 0.8 | 0.9 | \n",
       "|---|---|---|---|---|---|---|---|---|---|---|---|---|---|---|---|---|---|---|---|---|---|\n",
       "| chr 1 | 800 | 668 | 524 | 412 | 257 | \n",
       "| chr 2 | 422 | 346 | 268 | 204 | 136 | \n",
       "| chr 3 | 366 | 309 | 253 | 172 | 124 | \n",
       "| chr 4 | 176 | 139 | 116 |  90 |  52 | \n",
       "| chr 5 |  14 |  10 |   6 |   6 |   2 | \n",
       "| chr 6 | 258 | 190 | 152 | 114 |  88 | \n",
       "| chr 7 | 345 | 309 | 253 | 187 | 127 | \n",
       "| chr 8 | 219 | 185 | 145 | 103 |  68 | \n",
       "| chr 9 | 256 | 206 | 166 | 124 |  83 | \n",
       "| chr 10 | 278 | 222 | 185 | 125 |  78 | \n",
       "| chr 11 | 411 | 362 | 288 | 236 | 153 | \n",
       "| chr 12 | 349 | 294 | 224 | 178 | 115 | \n",
       "| chr 13 |  66 |  47 |  35 |  27 |   8 | \n",
       "| chr 14 | 218 | 179 | 141 | 114 |  66 | \n",
       "| chr 15 | 253 | 210 | 150 | 114 |  69 | \n",
       "| chr 16 | 445 | 383 | 319 | 233 | 159 | \n",
       "| chr 17 | 516 | 428 | 350 | 273 | 166 | \n",
       "| chr 18 |  52 |  39 |  27 |  20 |  10 | \n",
       "| chr 19 | 557 | 449 | 373 | 269 | 163 | \n",
       "| chr 20 | 148 | 117 | 105 |  69 |  40 | \n",
       "| chr 21 |  66 |  56 |  40 |  24 |  18 | \n",
       "| chr 22 | 202 | 165 | 124 |  99 |  58 | \n",
       "\n",
       "\n"
      ],
      "text/plain": [
       "       0.5 0.6 0.7 0.8 0.9\n",
       "chr 1  800 668 524 412 257\n",
       "chr 2  422 346 268 204 136\n",
       "chr 3  366 309 253 172 124\n",
       "chr 4  176 139 116  90  52\n",
       "chr 5   14  10   6   6   2\n",
       "chr 6  258 190 152 114  88\n",
       "chr 7  345 309 253 187 127\n",
       "chr 8  219 185 145 103  68\n",
       "chr 9  256 206 166 124  83\n",
       "chr 10 278 222 185 125  78\n",
       "chr 11 411 362 288 236 153\n",
       "chr 12 349 294 224 178 115\n",
       "chr 13  66  47  35  27   8\n",
       "chr 14 218 179 141 114  66\n",
       "chr 15 253 210 150 114  69\n",
       "chr 16 445 383 319 233 159\n",
       "chr 17 516 428 350 273 166\n",
       "chr 18  52  39  27  20  10\n",
       "chr 19 557 449 373 269 163\n",
       "chr 20 148 117 105  69  40\n",
       "chr 21  66  56  40  24  18\n",
       "chr 22 202 165 124  99  58"
      ]
     },
     "metadata": {},
     "output_type": "display_data"
    }
   ],
   "source": [
    "snps = data.frame(t(snps))\n",
    "colnames(snps) = grid\n",
    "rownames(snps) = paste('chr', 1:22)\n",
    "snps"
   ]
  },
  {
   "cell_type": "markdown",
   "metadata": {},
   "source": [
    "Proportion of SNPs involved are:"
   ]
  },
  {
   "cell_type": "code",
   "execution_count": 8,
   "metadata": {
    "collapsed": false
   },
   "outputs": [
    {
     "data": {
      "text/html": [
       "<dl class=dl-horizontal>\n",
       "\t<dt>0.5</dt>\n",
       "\t\t<dd>0.0216590048401142</dd>\n",
       "\t<dt>0.6</dt>\n",
       "\t\t<dd>0.0179327244375139</dd>\n",
       "\t<dt>0.7</dt>\n",
       "\t\t<dd>0.0143245779244888</dd>\n",
       "\t<dt>0.8</dt>\n",
       "\t\t<dd>0.0107771859832452</dd>\n",
       "\t<dt>0.9</dt>\n",
       "\t\t<dd>0.00688551813523968</dd>\n",
       "</dl>\n"
      ],
      "text/latex": [
       "\\begin{description*}\n",
       "\\item[0.5] 0.0216590048401142\n",
       "\\item[0.6] 0.0179327244375139\n",
       "\\item[0.7] 0.0143245779244888\n",
       "\\item[0.8] 0.0107771859832452\n",
       "\\item[0.9] 0.00688551813523968\n",
       "\\end{description*}\n"
      ],
      "text/markdown": [
       "0.5\n",
       ":   0.02165900484011420.6\n",
       ":   0.01793272443751390.7\n",
       ":   0.01432457792448880.8\n",
       ":   0.01077718598324520.9\n",
       ":   0.00688551813523968\n",
       "\n"
      ],
      "text/plain": [
       "        0.5         0.6         0.7         0.8         0.9 \n",
       "0.021659005 0.017932724 0.014324578 0.010777186 0.006885518 "
      ]
     },
     "metadata": {},
     "output_type": "display_data"
    },
    {
     "data": {
      "text/html": [
       "13467"
      ],
      "text/latex": [
       "13467"
      ],
      "text/markdown": [
       "13467"
      ],
      "text/plain": [
       "[1] 13467"
      ]
     },
     "metadata": {},
     "output_type": "display_data"
    }
   ],
   "source": [
    "apply(snps, 2, mean) / n_snps"
   ]
  },
  {
   "cell_type": "code",
   "execution_count": null,
   "metadata": {
    "collapsed": true
   },
   "outputs": [],
   "source": []
  }
 ],
 "metadata": {
  "kernelspec": {
   "display_name": "R",
   "language": "R",
   "name": "ir"
  },
  "language_info": {
   "codemirror_mode": "r",
   "file_extension": ".r",
   "mimetype": "text/x-r-source",
   "name": "R",
   "pygments_lexer": "r",
   "version": "3.3.1"
  }
 },
 "nbformat": 4,
 "nbformat_minor": 2
}
